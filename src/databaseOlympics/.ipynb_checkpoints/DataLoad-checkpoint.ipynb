{
 "cells": [
  {
   "cell_type": "code",
   "execution_count": 4,
   "metadata": {
    "collapsed": true
   },
   "outputs": [],
   "source": [
    "import json"
   ]
  },
  {
   "cell_type": "code",
   "execution_count": 8,
   "metadata": {
    "collapsed": false
   },
   "outputs": [
    {
     "name": "stdout",
     "output_type": "stream",
     "text": [
      "Number of athletes = 24686\n",
      "Number of medals = 34182\n",
      "\n",
      "{u'Country': u'MAR', u'Age': u'29', u'GameCode': u'22', u'Event': u'Featherweight', u'Result': None, u'Year': u'1988', u'Sport': u'BOX', u'Medal': u'BRONZE', u'Athlete': u'ACHIKABD01'}\n",
      "\n",
      "Achik, Abdelhak\n"
     ]
    }
   ],
   "source": [
    "# load the data\n",
    "medalTable = [];\n",
    "athleteTable = {};\n",
    "for c in 'abcdefghijklmnopqrstuvwxyz':\n",
    "    with open('../../data/databaseOlympics/MedalTable_'+c+'.json') as data_file:    \n",
    "        medalTable.extend(json.load(data_file))\n",
    "    with open('../../data/databaseOlympics/AthleteTable_'+c+'.json') as data_file:    \n",
    "        athleteTable.update(json.load(data_file))\n",
    "        \n",
    "print \"Number of athletes =\",len(athleteTable)\n",
    "print \"Number of medals =\",len(medalTable)\n",
    "print\n",
    "print medalTable[100]\n",
    "print\n",
    "print athleteTable[medalTable[100]['Athlete']][0]"
   ]
  },
  {
   "cell_type": "code",
   "execution_count": 61,
   "metadata": {
    "collapsed": false
   },
   "outputs": [
    {
     "name": "stdout",
     "output_type": "stream",
     "text": [
      "42.4258381604\n"
     ]
    }
   ],
   "source": [
    "cnt = 0\n",
    "for medal in medalTable:\n",
    "    if medal['Age'] is not None:\n",
    "        if (int)(str(medal['Age'])) > 25:\n",
    "            cnt = cnt+1\n",
    "print cnt/(float)(len(medalTable))*100"
   ]
  },
  {
   "cell_type": "code",
   "execution_count": null,
   "metadata": {
    "collapsed": true
   },
   "outputs": [],
   "source": []
  }
 ],
 "metadata": {
  "kernelspec": {
   "display_name": "Python 2",
   "language": "python",
   "name": "python2"
  },
  "language_info": {
   "codemirror_mode": {
    "name": "ipython",
    "version": 2
   },
   "file_extension": ".py",
   "mimetype": "text/x-python",
   "name": "python",
   "nbconvert_exporter": "python",
   "pygments_lexer": "ipython2",
   "version": "2.7.6"
  }
 },
 "nbformat": 4,
 "nbformat_minor": 0
}
