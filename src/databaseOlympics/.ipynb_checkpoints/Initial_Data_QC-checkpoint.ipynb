{
 "cells": [
  {
   "cell_type": "code",
   "execution_count": 1,
   "metadata": {
    "collapsed": true
   },
   "outputs": [],
   "source": [
    "# some initial QC\n",
    "import json\n",
    "import numpy as np\n",
    "import matplotlib.pyplot as plt"
   ]
  },
  {
   "cell_type": "code",
   "execution_count": 5,
   "metadata": {
    "collapsed": false
   },
   "outputs": [
    {
     "name": "stdout",
     "output_type": "stream",
     "text": [
      "Loaded 24686 records into dbo_athletes\n",
      "Loaded 34182 records into dbo_results\n",
      "\n",
      "{u'Country': u'MAR', u'Age': u'29', u'GameCode': u'22', u'Event': u'Featherweight', u'Result': None, u'Year': u'1988', u'Sport': u'BOX', u'Medal': u'BRONZE', u'Athlete': u'ACHIKABD01'}\n",
      "\n",
      "Achik, Abdelhak\n"
     ]
    }
   ],
   "source": [
    "# load databaseOlympics data for comparison\n",
    "# load the data\n",
    "dbo_results = [];\n",
    "dbo_athletes = {};\n",
    "for c in 'abcdefghijklmnopqrstuvwxyz':\n",
    "    with open('../../data/databaseOlympics/MedalTable_'+c+'.json') as data_file:    \n",
    "        dbo_results.extend(json.load(data_file))\n",
    "    with open('../../data/databaseOlympics/AthleteTable_'+c+'.json') as data_file:    \n",
    "        dbo_athletes.update(json.load(data_file))\n",
    "        \n",
    "print \"Loaded \" + str(len(dbo_athletes)) + \" records into dbo_athletes\"\n",
    "print \"Loaded \" + str(len(dbo_results)) + \" records into dbo_results\"\n",
    "print\n",
    "print dbo_results[100]\n",
    "print\n",
    "print dbo_athletes[dbo_results[100]['Athlete']][0]"
   ]
  },
  {
   "cell_type": "code",
   "execution_count": null,
   "metadata": {
    "collapsed": false
   },
   "outputs": [],
   "source": [
    "# G-S-B QC by olympics\n",
    "# compute number of results by olympics\n",
    "medal_count= {}\n",
    "\n",
    "for res in dbo_results:\n",
    "    olym = res['GameCode']\n",
    "    medal = res['Medal']\n",
    "    if medal is None:\n",
    "        continue\n",
    "    if not olym in medal_count:\n",
    "        medal_count[olym] = [0, 0, 0, 0, 0]    \n",
    "    medal_count[olym][3] = medal_count[olym][3]+1\n",
    "    medal_count[olym][4] = int(str(res['Year']))\n",
    "    if medal[0] == \"G\":\n",
    "        medal_count[olym][0] = medal_count[olym][0]+1\n",
    "    elif medal[0] == \"S\":\n",
    "        medal_count[olym][1] = medal_count[olym][1]+1\n",
    "    elif medal[0] == \"B\":\n",
    "        medal_count[olym][2] = medal_count[olym][2]+1\n",
    "\n",
    "medal_table = []\n",
    "for ol in medal_count:\n",
    "    medal_table.append(medal_count[ol])\n",
    "\n",
    "medal_array = np.array(medal_table)\n",
    "    \n",
    "# make a bar chart\n",
    "N = len(medal_array)\n",
    "ind = np.arange(N)  # the x locations for the groups\n",
    "width = 0.2       # the width of the bars\n",
    "\n",
    "# define plot and bar axes\n",
    "fig, ax = plt.subplots()\n",
    "rectsG = ax.bar(ind, medal_array[:,0], width, color='y')\n",
    "rectsS = ax.bar(ind+width, medal_array[:,1], width, color='k')\n",
    "rectsB = ax.bar(ind+2*width, medal_array[:,2], width, color='r')\n",
    "\n",
    "# plot tick setup\n",
    "ax.set_ylabel('Medal Count')\n",
    "ax.set_title('Medals Scraped from databaseolympics.com')\n",
    "ax.set_xticks(ind + 1.5*width)\n",
    "ax.set_xticklabels(medal_array[:,4])\n",
    "plt.xticks(rotation=90)\n",
    "plt.gcf().subplots_adjust(bottom=0.4)\n",
    "\n",
    "plt.show()"
   ]
  },
  {
   "cell_type": "code",
   "execution_count": 22,
   "metadata": {
    "collapsed": false
   },
   "outputs": [
    {
     "data": {
      "text/plain": [
       "array([[  32,   32,   28, 1932,    0],\n",
       "       [ 613,  609,  629, 1996,    0],\n",
       "       [ 667,  664,  682, 2000,    0],\n",
       "       [ 657,  658,  678, 2004,    0],\n",
       "       [  26,   26,   29, 1924,    0],\n",
       "       [ 446,  445,  462, 1980,    0],\n",
       "       [ 480,  471,  498, 1984,    0],\n",
       "       [ 506,  498,  529, 1988,    0],\n",
       "       [ 561,  542,  600, 1992,    0]])"
      ]
     },
     "execution_count": 22,
     "metadata": {},
     "output_type": "execute_result"
    }
   ],
   "source": [
    "medal_array[1:10]"
   ]
  },
  {
   "cell_type": "code",
   "execution_count": null,
   "metadata": {
    "collapsed": true
   },
   "outputs": [],
   "source": []
  }
 ],
 "metadata": {
  "kernelspec": {
   "display_name": "Python 2",
   "language": "python",
   "name": "python2"
  },
  "language_info": {
   "codemirror_mode": {
    "name": "ipython",
    "version": 2
   },
   "file_extension": ".py",
   "mimetype": "text/x-python",
   "name": "python",
   "nbconvert_exporter": "python",
   "pygments_lexer": "ipython2",
   "version": "2.7.6"
  }
 },
 "nbformat": 4,
 "nbformat_minor": 0
}
