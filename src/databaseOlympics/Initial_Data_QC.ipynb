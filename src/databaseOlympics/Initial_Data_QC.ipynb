{
 "cells": [
  {
   "cell_type": "code",
   "execution_count": null,
   "metadata": {
    "collapsed": true
   },
   "outputs": [],
   "source": [
    "# some initial QC\n",
    "import json\n",
    "import numpy as np\n",
    "import matplotlib.pyplot as plt"
   ]
  },
  {
   "cell_type": "code",
   "execution_count": null,
   "metadata": {
    "collapsed": false
   },
   "outputs": [],
   "source": [
    "# load databaseOlympics data for comparison\n",
    "# load the data\n",
    "dbo_results = [];\n",
    "dbo_athletes = {};\n",
    "for c in 'abcdefghijklmnopqrstuvwxyz':\n",
    "    with open('../../data/databaseOlympics/MedalTable_'+c+'.json') as data_file:    \n",
    "        dbo_results.extend(json.load(data_file))\n",
    "    with open('../../data/databaseOlympics/AthleteTable_'+c+'.json') as data_file:    \n",
    "        dbo_athletes.update(json.load(data_file))\n",
    "        \n",
    "print \"Loaded \" + str(len(dbo_athletes)) + \" records into dbo_athletes\"\n",
    "print \"Loaded \" + str(len(dbo_results)) + \" records into dbo_results\"\n",
    "print\n",
    "print dbo_results[100]\n",
    "print\n",
    "print dbo_athletes[dbo_results[100]['Athlete']][0]"
   ]
  },
  {
   "cell_type": "code",
   "execution_count": null,
   "metadata": {
    "collapsed": false
   },
   "outputs": [],
   "source": [
    "# G-S-B QC by olympics\n",
    "# compute number of results by olympics\n",
    "medal_count= {}\n",
    "\n",
    "for res in dbo_results:\n",
    "    olym = res['GameCode']\n",
    "    medal = res['Medal']\n",
    "    if medal is None:\n",
    "        continue\n",
    "    if not olym in medal_count:\n",
    "        medal_count[olym] = [0, 0, 0, 0, 0]    \n",
    "    medal_count[olym][3] = medal_count[olym][3]+1\n",
    "    medal_count[olym][4] = int(str(res['Year']))\n",
    "    if medal[0] == \"G\":\n",
    "        medal_count[olym][0] = medal_count[olym][0]+1\n",
    "    elif medal[0] == \"S\":\n",
    "        medal_count[olym][1] = medal_count[olym][1]+1\n",
    "    elif medal[0] == \"B\":\n",
    "        medal_count[olym][2] = medal_count[olym][2]+1\n",
    "\n",
    "medal_table = []\n",
    "for ol in medal_count:\n",
    "    medal_table.append(medal_count[ol])\n",
    "\n",
    "# make a numpy array of the medals and sort by year\n",
    "medal_array = np.array(medal_table)\n",
    "medal_array = medal_array[medal_array[:,4].argsort()]    \n",
    "    \n",
    "# make a bar chart\n",
    "N = len(medal_array)\n",
    "ind = np.arange(N)  # the x locations for the groups\n",
    "width = 0.25       # the width of the bars\n",
    "\n",
    "# define plot and bar axes\n",
    "fig, ax = plt.subplots()\n",
    "rectsG = ax.bar(ind, medal_array[:,0], width, color='y')\n",
    "rectsS = ax.bar(ind+width, medal_array[:,1], width, color='k')\n",
    "rectsB = ax.bar(ind+2*width, medal_array[:,2], width, color='r')\n",
    "\n",
    "# plot tick setup\n",
    "ax.set_ylabel('Medal Count')\n",
    "ax.set_title('Medals Scraped from databaseolympics.com')\n",
    "ax.set_xticks(ind + 1.5*width)\n",
    "ax.set_xticklabels(medal_array[:,4])\n",
    "plt.xticks(rotation=90)\n",
    "plt.gcf().subplots_adjust(bottom=0.1)\n",
    "\n",
    "plt.show()"
   ]
  },
  {
   "cell_type": "code",
   "execution_count": null,
   "metadata": {
    "collapsed": false
   },
   "outputs": [],
   "source": [
    "medal_array[-2,4] > medal_array[-3,4]"
   ]
  },
  {
   "cell_type": "code",
   "execution_count": null,
   "metadata": {
    "collapsed": true
   },
   "outputs": [],
   "source": []
  }
 ],
 "metadata": {
  "kernelspec": {
   "display_name": "Python 2",
   "language": "python",
   "name": "python2"
  },
  "language_info": {
   "codemirror_mode": {
    "name": "ipython",
    "version": 2
   },
   "file_extension": ".py",
   "mimetype": "text/x-python",
   "name": "python",
   "nbconvert_exporter": "python",
   "pygments_lexer": "ipython2",
   "version": "2.7.6"
  }
 },
 "nbformat": 4,
 "nbformat_minor": 0
}
