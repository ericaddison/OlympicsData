{
 "cells": [
  {
   "cell_type": "code",
   "execution_count": 1,
   "metadata": {
    "collapsed": true
   },
   "outputs": [],
   "source": [
    "# Imports\n",
    "from bs4 import BeautifulSoup\n",
    "from bs4 import Tag\n",
    "import re\n",
    "import json\n",
    "import urllib2\n",
    "import urllib\n",
    "import sys"
   ]
  },
  {
   "cell_type": "code",
   "execution_count": 16,
   "metadata": {
    "collapsed": false
   },
   "outputs": [
    {
     "name": "stdout",
     "output_type": "stream",
     "text": [
      "Retrying problems for a\n",
      "Length of MedalTable: 1224\n",
      "Length of AthleteTable: 910\n",
      "Number of problems: 1\n",
      "/playerpage.htm?ilkid=ARANZ01   \n"
     ]
    }
   ],
   "source": [
    "# load the problem set for each letter\n",
    "c = 'a'\n",
    "with open('MedalTable_'+c+'.json') as data_file:    \n",
    "    medalTable = json.load(data_file)\n",
    "with open('AthleteTable_'+c+'.json') as data_file:    \n",
    "    athleteTable = json.load(data_file)\n",
    "with open('ProblemTable_'+c+'.json') as data_file:    \n",
    "    problems = json.load(data_file)\n",
    "\n",
    "print \"Retrying problems for \" + c\n",
    "print \"Length of MedalTable:\",len(medalTable)\n",
    "print \"Length of AthleteTable:\",len(athleteTable)\n",
    "print \"Number of problems:\",len(problems)\n",
    "for prob in problems:\n",
    "    print prob['href']"
   ]
  },
  {
   "cell_type": "code",
   "execution_count": null,
   "metadata": {
    "collapsed": true
   },
   "outputs": [],
   "source": []
  }
 ],
 "metadata": {
  "kernelspec": {
   "display_name": "Python 2",
   "language": "python",
   "name": "python2"
  },
  "language_info": {
   "codemirror_mode": {
    "name": "ipython",
    "version": 2
   },
   "file_extension": ".py",
   "mimetype": "text/x-python",
   "name": "python",
   "nbconvert_exporter": "python",
   "pygments_lexer": "ipython2",
   "version": "2.7.6"
  }
 },
 "nbformat": 4,
 "nbformat_minor": 0
}
