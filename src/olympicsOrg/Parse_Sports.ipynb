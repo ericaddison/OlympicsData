{
 "cells": [
  {
   "cell_type": "code",
   "execution_count": 1,
   "metadata": {
    "collapsed": true
   },
   "outputs": [],
   "source": [
    "import urllib2\n",
    "import re\n",
    "import json\n",
    "from bs4 import BeautifulSoup"
   ]
  },
  {
   "cell_type": "code",
   "execution_count": 33,
   "metadata": {
    "collapsed": false
   },
   "outputs": [
    {
     "data": {
      "text/plain": [
       "{'alpine-skiing': {'name': u'Alpine Skiing'},\n",
       " 'archery': {'name': u'Archery'},\n",
       " 'athletics': {'name': u'Athletics'},\n",
       " 'badminton': {'name': u'Badminton'},\n",
       " 'basketball': {'name': u'Basketball'},\n",
       " 'beach-volleyball': {'name': u'Beach Volleyball'},\n",
       " 'biathlon': {'name': u'Biathlon'},\n",
       " 'bobsleigh': {'name': u'Bobsleigh'},\n",
       " 'boxing': {'name': u'Boxing'},\n",
       " 'canoe-slalom': {'name': u'Canoe Slalom'},\n",
       " 'canoe-sprint': {'name': u'Canoe Sprint'},\n",
       " 'cross-country-skiing': {'name': u'Cross Country Skiing'},\n",
       " 'curling': {'name': u'Curling'},\n",
       " 'cycling-bmx': {'name': u'Cycling BMX'},\n",
       " 'cycling-mountain-bike': {'name': u'Cycling Mountain Bike'},\n",
       " 'cycling-road': {'name': u'Cycling Road'},\n",
       " 'cycling-track': {'name': u'Cycling Track'},\n",
       " 'diving': {'name': u'Diving'},\n",
       " 'equestrian-dressage': {'name': u'Equestrian/Dressage'},\n",
       " 'equestrian-eventing': {'name': u'Equestrian/Eventing'},\n",
       " 'equestrian-jumping': {'name': u'Equestrian/Jumping'},\n",
       " 'fencing': {'name': u'Fencing'},\n",
       " 'figure-skating': {'name': u'Figure skating'},\n",
       " 'football': {'name': u'Football'},\n",
       " 'freestyle-skiing': {'name': u'Freestyle Skiing'},\n",
       " 'golf': {'name': u'Golf'},\n",
       " 'gymnastics-artistic': {'name': u'Gymnastics Artistic'},\n",
       " 'gymnastics-rhythmic': {'name': u'Gymnastics Rhythmic'},\n",
       " 'handball': {'name': u'Handball'},\n",
       " 'hockey': {'name': u'Hockey'},\n",
       " 'ice-hockey': {'name': u'Ice Hockey'},\n",
       " 'judo': {'name': u'Judo'},\n",
       " 'luge': {'name': u'Luge'},\n",
       " 'modern-pentathlon': {'name': u'Modern Pentathlon'},\n",
       " 'nordic-combined': {'name': u'Nordic Combined'},\n",
       " 'rowing': {'name': u'Rowing'},\n",
       " 'rugby': {'name': u'Rugby'},\n",
       " 'sailing': {'name': u'Sailing'},\n",
       " 'shooting': {'name': u'Shooting'},\n",
       " 'short-track-speed-skating': {'name': u'Short Track Speed Skating'},\n",
       " 'skeleton': {'name': u'Skeleton'},\n",
       " 'ski-jumping': {'name': u'Ski Jumping'},\n",
       " 'snowboard': {'name': u'Snowboard'},\n",
       " 'speed-skating': {'name': u'Speed skating'},\n",
       " 'swimming': {'name': u'Swimming'},\n",
       " 'synchronized-swimming': {'name': u'Synchronized Swimming'},\n",
       " 'table-tennis': {'name': u'Table Tennis'},\n",
       " 'taekwondo': {'name': u'Taekwondo'},\n",
       " 'tennis': {'name': u'Tennis'},\n",
       " 'trampoline': {'name': u'Trampoline'},\n",
       " 'triathlon': {'name': u'Triathlon'},\n",
       " 'volleyball': {'name': u'Volleyball'},\n",
       " 'water-polo': {'name': u'Water Polo'},\n",
       " 'weightlifting': {'name': u'Weightlifting'},\n",
       " 'wrestling-freestyle': {'name': u'Wrestling Freestyle'},\n",
       " 'wrestling-greco-roman': {'name': u'Wrestling Greco-Roman'}}"
      ]
     },
     "execution_count": 33,
     "metadata": {},
     "output_type": "execute_result"
    }
   ],
   "source": [
    "# parse the main page for all Sports\n",
    "baseUrl = \"https://www.olympic.org\"\n",
    "\n",
    "# get the html\n",
    "html = urllib2.urlopen(baseUrl).read()\n",
    "\n",
    "# soup it up\n",
    "olympicSoup = BeautifulSoup(html)\n",
    "\n",
    "# initliaze olympics dictionary\n",
    "sports = {}\n",
    "\n",
    "# find the link to the sports page, which is the beginning of the sports table\n",
    "navTable = olympicSoup.find(\"ul\",id=\"nav\")\n",
    "\n",
    "# there are multiple top-level list items in the navTable\n",
    "# we want the second, which holds the sports\n",
    "sportsTable = navTable.find(\"li\").find_next_sibling(\"li\")\n",
    "\n",
    "# make sure we got the right one\n",
    "if sportsTable.find(\"a\").string == \"Sports\":\n",
    "        # now get all the sports!\n",
    "        sportListItem = sportsTable.find_all(\"li\")\n",
    "        for sport in sportListItem:\n",
    "            sportID = sport.a['href'].split(\"/\")[-1]\n",
    "            sports[sportID] = {}\n",
    "            sports[sportID]['name'] = sport.a.string\n",
    "\n",
    "        with open('SportsTable.json', 'w') as outfile:\n",
    "            json.dump(sports, outfile, indent=4, sort_keys=True, separators=(',', ':'))\n",
    "            outfile.close()\n",
    "else:    \n",
    "    print \"Did not parse correct sports table\"\n",
    "    \n",
    "sports"
   ]
  },
  {
   "cell_type": "code",
   "execution_count": null,
   "metadata": {
    "collapsed": false
   },
   "outputs": [],
   "source": []
  },
  {
   "cell_type": "code",
   "execution_count": null,
   "metadata": {
    "collapsed": true
   },
   "outputs": [],
   "source": []
  }
 ],
 "metadata": {
  "kernelspec": {
   "display_name": "Python 2",
   "language": "python",
   "name": "python2"
  },
  "language_info": {
   "codemirror_mode": {
    "name": "ipython",
    "version": 2
   },
   "file_extension": ".py",
   "mimetype": "text/x-python",
   "name": "python",
   "nbconvert_exporter": "python",
   "pygments_lexer": "ipython2",
   "version": "2.7.6"
  }
 },
 "nbformat": 4,
 "nbformat_minor": 0
}
