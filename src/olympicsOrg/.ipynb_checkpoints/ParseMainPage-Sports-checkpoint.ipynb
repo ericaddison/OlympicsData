{
 "cells": [
  {
   "cell_type": "code",
   "execution_count": 96,
   "metadata": {
    "collapsed": true
   },
   "outputs": [],
   "source": [
    "import urllib2\n",
    "import re\n",
    "import json\n",
    "from bs4 import BeautifulSoup"
   ]
  },
  {
   "cell_type": "code",
   "execution_count": 105,
   "metadata": {
    "collapsed": true
   },
   "outputs": [],
   "source": [
    "# helper function to parse one olympic game\n",
    "def parse_one_olympic(olympicTag, gameSeason):\n",
    "    gameID = game.a['href'].split(\"/\")[1]\n",
    "    splitID = gameID.split(\"-\")\n",
    "    loc = \"\"\n",
    "    for i in range(0,len(splitID)-1):\n",
    "            loc = loc + splitID[i].title() + \"-\"\n",
    "    loc = loc[0:-1]\n",
    "    newOlympic = {}\n",
    "    newOlympic = {}\n",
    "    newOlympic['location'] = loc\n",
    "    newOlympic['year'] = gameID.split(\"-\")[-1]\n",
    "    newOlympic['type'] = gameSeason\n",
    "    return [gameID, newOlympic]"
   ]
  },
  {
   "cell_type": "code",
   "execution_count": 106,
   "metadata": {
    "collapsed": false
   },
   "outputs": [],
   "source": [
    "# parse the main page for all Olympic games\n",
    "baseUrl = \"https://www.olympic.org\"\n",
    "\n",
    "# get the html\n",
    "html = urllib2.urlopen(baseUrl).read()\n",
    "\n",
    "# soup it up\n",
    "olympicSoup = BeautifulSoup(html)\n",
    "\n",
    "# initliaze olympics dictionary\n",
    "olympics = {}\n",
    "\n",
    "# types of games:\n",
    "gameTypes = [\"summer\",\"winter\",\"youth\"]\n",
    "\n",
    "for gtype in gameTypes:\n",
    "\n",
    "    # find the games tags\n",
    "    theseGames = olympicSoup.find_all(class_=gtype+\"games\")\n",
    "\n",
    "    for game in theseGames:\n",
    "        newParse = parse_one_olympic(game, gtype)\n",
    "        olympics[newParse[0]] = newParse[1]\n",
    "\n",
    "with open('OlympicsTable.json', 'w') as outfile:\n",
    "    json.dump(olympics, outfile, indent=4, sort_keys=True, separators=(',', ':'))\n",
    "    outfile.close()        \n"
   ]
  },
  {
   "cell_type": "code",
   "execution_count": 107,
   "metadata": {
    "collapsed": false
   },
   "outputs": [],
   "source": [
    "# parse the main page for all Sports\n",
    "baseUrl = \"https://www.olympic.org\"\n",
    "\n",
    "# get the html\n",
    "html = urllib2.urlopen(baseUrl).read()\n",
    "\n",
    "# soup it up\n",
    "olympicSoup = BeautifulSoup(html)\n",
    "\n",
    "# initliaze olympics dictionary\n",
    "sports = {}\n",
    "\n",
    "# find the link to the sports page, which is the beginning of the sports table\n",
    "navTable = olympicSoup.find(\"ul\",id=\"nav\")\n",
    "\n",
    "# there are multiple top-level list items in the navTable\n",
    "# we want the second, which holds the sports\n",
    "sportsTable = navTable.find(\"li\").find_next_sibling(\"li\")\n",
    "\n",
    "# make sure we got the right one\n",
    "if sportsTable.find(\"a\").string == \"Sports\":\n",
    "        # now get all the sports!\n",
    "        sportListItem = sportsTable.find_all(\"li\")\n",
    "        for sport in sportListItem:\n",
    "            sportID = sport.a['href'].split(\"/\")[-1]\n",
    "            sports[sportID] = {}\n",
    "            sports[sportID]['name'] = sport.a.string\n",
    "\n",
    "        with open('SportsTable.json', 'w') as outfile:\n",
    "            json.dump(sports, outfile, indent=4, sort_keys=True, separators=(',', ':'))\n",
    "            outfile.close()\n",
    "else:    \n",
    "    print \"Did not parse correct sports table\""
   ]
  },
  {
   "cell_type": "code",
   "execution_count": null,
   "metadata": {
    "collapsed": false
   },
   "outputs": [],
   "source": []
  },
  {
   "cell_type": "code",
   "execution_count": null,
   "metadata": {
    "collapsed": true
   },
   "outputs": [],
   "source": []
  }
 ],
 "metadata": {
  "kernelspec": {
   "display_name": "Python 2",
   "language": "python",
   "name": "python2"
  },
  "language_info": {
   "codemirror_mode": {
    "name": "ipython",
    "version": 2
   },
   "file_extension": ".py",
   "mimetype": "text/x-python",
   "name": "python",
   "nbconvert_exporter": "python",
   "pygments_lexer": "ipython2",
   "version": "2.7.6"
  }
 },
 "nbformat": 4,
 "nbformat_minor": 0
}
