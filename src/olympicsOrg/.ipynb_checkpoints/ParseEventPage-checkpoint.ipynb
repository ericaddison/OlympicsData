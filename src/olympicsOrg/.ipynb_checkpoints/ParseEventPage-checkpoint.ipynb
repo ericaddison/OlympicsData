{
 "cells": [
  {
   "cell_type": "code",
   "execution_count": null,
   "metadata": {
    "collapsed": true
   },
   "outputs": [],
   "source": [
    "# next need to parse an event page for results\n",
    "\n",
    "# diving will be trickier. Olympic.org does calls lots of it's diving \"aquatics\", \n",
    "# but doesn't have any stat pages for that!!!! Might need to supplement from dataBaseOlympics"
   ]
  },
  {
   "cell_type": "code",
   "execution_count": 2,
   "metadata": {
    "collapsed": true
   },
   "outputs": [],
   "source": [
    "import urllib2\n",
    "import re\n",
    "import json\n",
    "from bs4 import BeautifulSoup\n",
    "import sys"
   ]
  },
  {
   "cell_type": "code",
   "execution_count": null,
   "metadata": {
    "collapsed": true
   },
   "outputs": [],
   "source": [
    "# load all the sports\n",
    "with open('./SportsTable.json') as data_file:\n",
    "    sportsTable = json.load(data_file)"
   ]
  },
  {
   "cell_type": "code",
   "execution_count": null,
   "metadata": {
    "collapsed": false
   },
   "outputs": [],
   "source": [
    "# Need to parse all events from a sports page\n",
    "# base url for olympics site\n",
    "baseUrl = \"https://www.olympic.org\"\n",
    "\n",
    "# initialize resultsLinks dict\n",
    "resultsLinks = {}\n",
    "\n",
    "# loop through sports\n",
    "for sport in sportsTable:\n",
    "    sys.stdout.write(\"parsing results for \" + sport)\n",
    "    # loop through events\n",
    "    for event in sportsTable[sport][\"events\"]:\n",
    "        sys.stdout.write('.')\n",
    "        sys.stdout.flush()\n",
    "        # combined string\n",
    "        sportEvent = sport+\"/\"+event\n",
    "        try:\n",
    "            # get the html\n",
    "            html = urllib2.urlopen(baseUrl+\"/\"+sportEvent).read()\n",
    "\n",
    "            # soup it up\n",
    "            eventSoup = BeautifulSoup(html)\n",
    "\n",
    "            # function to find results links\n",
    "            def isFullResult(tag):\n",
    "                match = re.match(\"Full Results.*\",tag.get_text())\n",
    "                return match and tag.name == \"a\"\n",
    "\n",
    "            # find the right section\n",
    "            #resultsLinks = eventSoup.find_all(\"a\",href=re.compile(\"^/.*/\"+sportEvent))\n",
    "            resultsTags = eventSoup.find_all(isFullResult)\n",
    "\n",
    "            # initialize resultsLinks\n",
    "            resultsLinks[sportEvent] = set();\n",
    "\n",
    "            for tag in resultsTags:\n",
    "                resultsLinks[sportEvent].add(tag['href'])\n",
    "\n",
    "        except:\n",
    "            print \"!!! Problem with event \" + sportEvent\n",
    "    print\n",
    "\n",
    "with open('ResultsLinksTable.json', 'w') as outfile:\n",
    "    json.dump(resultsLinks, outfile, indent=4, sort_keys=True, separators=(',', ':'))\n",
    "    outfile.close()"
   ]
  },
  {
   "cell_type": "code",
   "execution_count": null,
   "metadata": {
    "collapsed": false,
    "scrolled": true
   },
   "outputs": [],
   "source": [
    "resultsLinks"
   ]
  },
  {
   "cell_type": "code",
   "execution_count": null,
   "metadata": {
    "collapsed": false
   },
   "outputs": [],
   "source": [
    "\n"
   ]
  },
  {
   "cell_type": "code",
   "execution_count": null,
   "metadata": {
    "collapsed": true
   },
   "outputs": [],
   "source": []
  }
 ],
 "metadata": {
  "kernelspec": {
   "display_name": "Python 2",
   "language": "python",
   "name": "python2"
  },
  "language_info": {
   "codemirror_mode": {
    "name": "ipython",
    "version": 2
   },
   "file_extension": ".py",
   "mimetype": "text/x-python",
   "name": "python",
   "nbconvert_exporter": "python",
   "pygments_lexer": "ipython2",
   "version": "2.7.6"
  }
 },
 "nbformat": 4,
 "nbformat_minor": 0
}
