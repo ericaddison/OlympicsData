{
 "cells": [
  {
   "cell_type": "code",
   "execution_count": 20,
   "metadata": {
    "collapsed": true
   },
   "outputs": [],
   "source": [
    "# next need to parse a sport page for events, and that's it"
   ]
  },
  {
   "cell_type": "code",
   "execution_count": 26,
   "metadata": {
    "collapsed": true
   },
   "outputs": [],
   "source": [
    "import urllib2\n",
    "import re\n",
    "import json\n",
    "from bs4 import BeautifulSoup"
   ]
  },
  {
   "cell_type": "code",
   "execution_count": null,
   "metadata": {
    "collapsed": true
   },
   "outputs": [],
   "source": [
    "# load all the sports\n",
    "with open('./SportsTable.json') as data_file:\n",
    "    sportsTable = json.load(data_file)"
   ]
  },
  {
   "cell_type": "code",
   "execution_count": 34,
   "metadata": {
    "collapsed": false
   },
   "outputs": [],
   "source": [
    "# Need to parse all events from a sports page\n",
    "# base url for olympics site\n",
    "baseUrl = \"https://www.olympic.org\"\n",
    "\n",
    "# initialize events dict\n",
    "events = {};\n",
    "\n",
    "# pick a sport\n",
    "sport = \"swimming\"\n",
    "\n",
    "# get the html\n",
    "html = urllib2.urlopen(baseUrl+\"/\"+\"/\"+sport).read()\n",
    "\n",
    "# soup it up\n",
    "sportSoup = BeautifulSoup(html)\n",
    "\n",
    "# find the right section\n",
    "sportSection = sportSoup.find(\"section\",class_=\"sport-events \")\n",
    "\n",
    "# get the links from that section, holding the events\n",
    "eventLinks = sportSection.find_all(\"a\")\n",
    "\n",
    "# save that info\n",
    "events[sport] = {};\n",
    "for event in eventLinks:\n",
    "    eventID = event['href'].split(\"/\")[-1].strip()\n",
    "    events[sport][eventID] = event.string"
   ]
  },
  {
   "cell_type": "code",
   "execution_count": 35,
   "metadata": {
    "collapsed": false
   },
   "outputs": [
    {
     "data": {
      "text/plain": [
       "{'swimming': {'100m-backstroke-men': u'100m backstroke men',\n",
       "  '100m-backstroke-women': u'100m backstroke women',\n",
       "  '100m-breaststroke-men': u'100m breaststroke men',\n",
       "  '100m-breaststroke-women': u'100m breaststroke women',\n",
       "  '100m-butterfly-men': u'100m butterfly men',\n",
       "  '100m-butterfly-women': u'100m butterfly women',\n",
       "  '100m-freestyle-men': u'100m freestyle men',\n",
       "  '100m-freestyle-women': u'100m freestyle women',\n",
       "  '1500m-freestyle-men': u'1500m freestyle men',\n",
       "  '200m-backstroke-men': u'200m backstroke men',\n",
       "  '200m-backstroke-women': u'200m backstroke women',\n",
       "  '200m-breaststroke-men': u'200m breaststroke men',\n",
       "  '200m-breaststroke-women': u'200m breaststroke women',\n",
       "  '200m-butterfly-men': u'200m butterfly men',\n",
       "  '200m-butterfly-women': u'200m butterfly women',\n",
       "  '200m-freestyle-men': u'200m freestyle men',\n",
       "  '200m-freestyle-women': u'200m freestyle women',\n",
       "  '200m-individual-medley-men': u'200m individual medley men',\n",
       "  '200m-individual-medley-women': u'200m individual medley women',\n",
       "  '400m-freestyle-men': u'400m freestyle men',\n",
       "  '400m-freestyle-women': u'400m freestyle women',\n",
       "  '400m-individual-medley-men': u'400m individual medley men',\n",
       "  '400m-individual-medley-women': u'400m individual medley women',\n",
       "  '4x100m-freestyle-relay-men': u'4x100m freestyle relay men',\n",
       "  '4x100m-freestyle-relay-women': u'4x100m freestyle relay women',\n",
       "  '4x100m-medley-relay-men': u'4x100m medley relay men',\n",
       "  '4x100m-medley-relay-women': u'4x100m medley relay women',\n",
       "  '4x200m-freestyle-relay-men': u'4x200m freestyle relay men',\n",
       "  '4x200m-freestyle-relay-women': u'4x200m freestyle relay women',\n",
       "  '50m-freestyle-men': u'50m freestyle men',\n",
       "  '50m-freestyle-women': u'50m freestyle women',\n",
       "  '800m-freestyle-women': u'800m freestyle women',\n",
       "  'marathon-10km-men': u'marathon 10km men',\n",
       "  'marathon-10km-women': u'marathon 10km women'}}"
      ]
     },
     "execution_count": 35,
     "metadata": {},
     "output_type": "execute_result"
    }
   ],
   "source": [
    "events"
   ]
  },
  {
   "cell_type": "code",
   "execution_count": null,
   "metadata": {
    "collapsed": true
   },
   "outputs": [],
   "source": []
  }
 ],
 "metadata": {
  "kernelspec": {
   "display_name": "Python 2",
   "language": "python",
   "name": "python2"
  },
  "language_info": {
   "codemirror_mode": {
    "name": "ipython",
    "version": 2
   },
   "file_extension": ".py",
   "mimetype": "text/x-python",
   "name": "python",
   "nbconvert_exporter": "python",
   "pygments_lexer": "ipython2",
   "version": "2.7.6"
  }
 },
 "nbformat": 4,
 "nbformat_minor": 0
}
