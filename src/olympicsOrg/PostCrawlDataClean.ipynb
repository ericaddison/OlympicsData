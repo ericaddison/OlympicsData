{
 "cells": [
  {
   "cell_type": "code",
   "execution_count": null,
   "metadata": {
    "collapsed": false
   },
   "outputs": [],
   "source": [
    "# loading and cleaning up the data after the initial crawl"
   ]
  },
  {
   "cell_type": "code",
   "execution_count": 5,
   "metadata": {
    "collapsed": true
   },
   "outputs": [],
   "source": [
    "import json"
   ]
  },
  {
   "cell_type": "code",
   "execution_count": 9,
   "metadata": {
    "collapsed": false
   },
   "outputs": [
    {
     "name": "stdout",
     "output_type": "stream",
     "text": [
      "Loaded 42603 records into athletes\n",
      "Loaded 17262 records into results\n",
      "Loaded 52637 records into rankings\n"
     ]
    }
   ],
   "source": [
    "# load the athlete data\n",
    "athletes = {}\n",
    "for ind in range(1,49):\n",
    "    with open('../../data/olympicsOrg/AthletesTable_'+str(ind)+'.json') as data_file:    \n",
    "        athletes.update(json.load(data_file))\n",
    "print \"Loaded \" + str(len(athletes)) + \" records into athletes\"\n",
    "\n",
    "# load the results data\n",
    "results = []\n",
    "for ind in range(1,49):\n",
    "    with open('../../data/olympicsOrg/ResultsTable_'+str(ind)+'.json') as data_file:    \n",
    "        results.extend(json.load(data_file))\n",
    "print \"Loaded \" + str(len(results)) + \" records into results\"\n",
    "\n",
    "# load the rankings data\n",
    "rankings = []\n",
    "for ind in range(1,49):\n",
    "    with open('../../data/olympicsOrg/RankingsTable_'+str(ind)+'.json') as data_file:    \n",
    "        rankings.extend(json.load(data_file))\n",
    "print \"Loaded \" + str(len(rankings)) + \" records into rankings\""
   ]
  },
  {
   "cell_type": "code",
   "execution_count": 34,
   "metadata": {
    "collapsed": false
   },
   "outputs": [],
   "source": [
    "# save data as one big file\n",
    "with open('../../data/olympicsOrg/AthletesTable.json', 'w') as outfile:\n",
    "    json.dump(athletes, outfile, indent=4, sort_keys=True, separators=(',', ':'))\n",
    "    outfile.close()\n",
    "with open('../../data/olympicsOrg/ResultsTable.json', 'w') as outfile:\n",
    "    json.dump(results, outfile, indent=4, sort_keys=True, separators=(',', ':'))\n",
    "    outfile.close()\n",
    "with open('../../data/olympicsOrg/RankingsTable.json', 'w') as outfile:\n",
    "    json.dump(rankings, outfile, indent=4, sort_keys=True, separators=(',', ':'))\n",
    "    outfile.close()"
   ]
  },
  {
   "cell_type": "code",
   "execution_count": 32,
   "metadata": {
    "collapsed": false
   },
   "outputs": [
    {
     "data": {
      "text/plain": [
       "{u'London 2012': {u'B': 1, u'G': 1, u'S': 3, 'total': 5},\n",
       " u'albertville-1992': {u'B': 70, u'G': 84, u'S': 73, 'total': 227},\n",
       " u'amsterdam-1928': {u'B': 79, u'G': 110, u'S': 90, 'total': 279},\n",
       " u'antwerp-1920': {u'B': 179, u'G': 209, u'S': 199, 'total': 587},\n",
       " u'athens-1896': {u'B': 34, u'G': 46, u'S': 42, 'total': 122},\n",
       " u'athens-2004': {u'B': 301, u'G': 398, u'S': 287, 'total': 986},\n",
       " u'atlanta-1996': {u'B': 210, u'G': 300, u'S': 205, 'total': 715},\n",
       " u'barcelona-1992': {u'B': 190, u'G': 270, u'S': 194, 'total': 654},\n",
       " u'beijing-2008': {u'B': 369, u'G': 451, u'S': 355, 'total': 1175},\n",
       " u'berlin-1936': {u'B': 86, u'G': 91, u'S': 79, 'total': 256},\n",
       " u'calgary-1988': {u'B': 50, u'G': 53, u'S': 55, 'total': 158},\n",
       " u'chamonix-1924': {u'B': 11, u'G': 11, u'S': 11, 'total': 33},\n",
       " u'cortina-d-ampezzo-1956': {u'B': 17, u'G': 17, u'S': 16, 'total': 50},\n",
       " u'garmisch-partenkirchen-1936': {u'B': 12, u'G': 11, u'S': 11, 'total': 34},\n",
       " u'grenoble-1968': {u'B': 33, u'G': 45, u'S': 41, 'total': 119},\n",
       " u'helsinki-1952': {u'B': 120, u'G': 157, u'S': 133, 'total': 410},\n",
       " u'innsbruck-1964': {u'B': 34, u'G': 39, u'S': 38, 'total': 111},\n",
       " u'innsbruck-1976': {u'B': 38, u'G': 47, u'S': 37, 'total': 122},\n",
       " u'lake-placid-1932': {u'B': 9, u'G': 10, u'S': 9, 'total': 28},\n",
       " u'lake-placid-1980': {u'B': 41, u'G': 45, u'S': 42, 'total': 128},\n",
       " u'lillehammer-1994': {u'B': 70, u'G': 81, u'S': 79, 'total': 230},\n",
       " u'london-1908': {u'B': 104, u'G': 122, u'S': 116, 'total': 342},\n",
       " u'london-1948': {u'B': 101, u'G': 120, u'S': 102, 'total': 323},\n",
       " u'london-2012': {u'B': 456, u'G': 484, u'S': 417, 'total': 1357},\n",
       " u'los-angeles-1932': {u'B': 57, u'G': 74, u'S': 68, 'total': 199},\n",
       " u'los-angeles-1984': {u'B': 163, u'G': 203, u'S': 157, 'total': 523},\n",
       " u'melbourne-stockholm-1956': {u'B': 115, u'G': 168, u'S': 131, 'total': 414},\n",
       " u'mexico-1968': {u'B': 140, u'G': 182, u'S': 135, 'total': 457},\n",
       " u'montreal-1976': {u'B': 132, u'G': 188, u'S': 156, 'total': 476},\n",
       " u'moscow-1980': {u'B': 150, u'G': 179, u'S': 155, 'total': 484},\n",
       " u'munich-1972': {u'B': 139, u'G': 185, u'S': 157, 'total': 481},\n",
       " u'nagano-1998': {u'B': 79, u'G': 85, u'S': 79, 'total': 243},\n",
       " u'oslo-1952': {u'B': 18, u'G': 21, u'S': 17, 'total': 56},\n",
       " u'paris-1900': {u'B': 65, u'G': 72, u'S': 70, 'total': 207},\n",
       " u'paris-1924': {u'B': 138, u'G': 150, u'S': 138, 'total': 426},\n",
       " u'rome-1960': {u'B': 125, u'G': 151, u'S': 129, 'total': 405},\n",
       " u'salt-lake-city-2002': {u'B': 95, u'G': 102, u'S': 88, 'total': 285},\n",
       " u'sapporo-1972': {u'B': 38, u'G': 45, u'S': 37, 'total': 120},\n",
       " u'sarajevo-1984': {u'B': 43, u'G': 44, u'S': 43, 'total': 130},\n",
       " u'seoul-1988': {u'B': 189, u'G': 223, u'S': 186, 'total': 598},\n",
       " u'sochi-2014': {u'B': 146, u'G': 154, u'S': 142, 'total': 442},\n",
       " u'squaw-valley-1960': {u'B': 30, u'G': 28, u'S': 28, 'total': 86},\n",
       " u'st-louis-1904': {u'B': 83, u'G': 111, u'S': 90, 'total': 284},\n",
       " u'st-moritz-1928': {u'B': 12, u'G': 10, u'S': 8, 'total': 30},\n",
       " u'st-moritz-1948': {u'B': 24, u'G': 21, u'S': 23, 'total': 68},\n",
       " u'stockholm-1912': {u'B': 122, u'G': 147, u'S': 126, 'total': 395},\n",
       " u'sydney-2000': {u'B': 265, u'G': 361, u'S': 265, 'total': 891},\n",
       " u'tokyo-1964': {u'B': 125, u'G': 149, u'S': 126, 'total': 400},\n",
       " u'turin-2006': {u'B': 113, u'G': 119, u'S': 112, 'total': 344},\n",
       " u'vancouver-2010': {u'B': 115, u'G': 130, u'S': 122, 'total': 367}}"
      ]
     },
     "execution_count": 32,
     "metadata": {},
     "output_type": "execute_result"
    }
   ],
   "source": [
    "# results QC by olympics\n",
    "# compute number of results by olympics\n",
    "results_olympics = {}\n",
    "for res in results:\n",
    "    olym = res['olympics']\n",
    "    medal = res['medal']\n",
    "    if not olym in results_olympics:\n",
    "        results_olympics[olym] = {}\n",
    "        results_olympics[olym]['total'] = 0\n",
    "    \n",
    "    if medal in results_olympics[olym]:\n",
    "        results_olympics[olym][medal] = results_olympics[olym][medal]+1\n",
    "    else:\n",
    "        results_olympics[olym][medal] = 1\n",
    "    results_olympics[olym]['total'] = results_olympics[olym]['total']+1\n",
    "        \n",
    "results_olympics"
   ]
  },
  {
   "cell_type": "code",
   "execution_count": null,
   "metadata": {
    "collapsed": true
   },
   "outputs": [],
   "source": []
  }
 ],
 "metadata": {
  "kernelspec": {
   "display_name": "Python 2",
   "language": "python",
   "name": "python2"
  },
  "language_info": {
   "codemirror_mode": {
    "name": "ipython",
    "version": 2
   },
   "file_extension": ".py",
   "mimetype": "text/x-python",
   "name": "python",
   "nbconvert_exporter": "python",
   "pygments_lexer": "ipython2",
   "version": "2.7.6"
  }
 },
 "nbformat": 4,
 "nbformat_minor": 0
}
