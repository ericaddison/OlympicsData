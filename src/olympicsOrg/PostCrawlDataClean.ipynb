{
 "cells": [
  {
   "cell_type": "code",
   "execution_count": null,
   "metadata": {
    "collapsed": false
   },
   "outputs": [],
   "source": [
    "# loading and cleaning up the data after the initial crawl"
   ]
  },
  {
   "cell_type": "code",
   "execution_count": 1,
   "metadata": {
    "collapsed": false
   },
   "outputs": [],
   "source": [
    "import json\n",
    "import numpy as np\n",
    "import matplotlib.pyplot as plt"
   ]
  },
  {
   "cell_type": "code",
   "execution_count": 2,
   "metadata": {
    "collapsed": false
   },
   "outputs": [
    {
     "name": "stdout",
     "output_type": "stream",
     "text": [
      "Loaded 42603 records into athletes\n",
      "Loaded 17262 records into results\n",
      "Loaded 52637 records into rankings\n"
     ]
    }
   ],
   "source": [
    "# load the athlete data\n",
    "with open('../../data/olympicsOrg/AthletesTable.json') as data_file:    \n",
    "    athletes = json.load(data_file)\n",
    "print \"Loaded \" + str(len(athletes)) + \" records into athletes\"\n",
    "\n",
    "# load the results data\n",
    "with open('../../data/olympicsOrg/ResultsTable.json') as data_file:    \n",
    "    results = json.load(data_file)\n",
    "print \"Loaded \" + str(len(results)) + \" records into results\"\n",
    "\n",
    "# load the rankings data\n",
    "with open('../../data/olympicsOrg/RankingsTable.json') as data_file:    \n",
    "    rankings  = json.load(data_file)\n",
    "print \"Loaded \" + str(len(rankings)) + \" records into rankings\""
   ]
  },
  {
   "cell_type": "code",
   "execution_count": 3,
   "metadata": {
    "collapsed": false
   },
   "outputs": [
    {
     "data": {
      "text/plain": [
       "array([[1, 2],\n",
       "       [3, 4]])"
      ]
     },
     "execution_count": 3,
     "metadata": {},
     "output_type": "execute_result"
    }
   ],
   "source": [
    "x = [[1, 2], [3, 4]]\n",
    "np.array(x)"
   ]
  },
  {
   "cell_type": "code",
   "execution_count": 25,
   "metadata": {
    "collapsed": false,
    "scrolled": true
   },
   "outputs": [],
   "source": [
    "# results QC by olympics\n",
    "# compute number of results by olympics\n",
    "results_olympics = {}\n",
    "\n",
    "for res in results:\n",
    "    olym = res['olympics']\n",
    "    medal = res['medal']\n",
    "    if not olym in results_olympics:\n",
    "        results_olympics[olym] = [0, 0, 0, 0]    \n",
    "    results_olympics[olym][3] = results_olympics[olym][3]+1\n",
    "    if medal == \"G\":\n",
    "        results_olympics[olym][0] = results_olympics[olym][0]+1\n",
    "    elif medal == \"S\":\n",
    "        results_olympics[olym][1] = results_olympics[olym][1]+1\n",
    "    elif medal == \"B\":\n",
    "        results_olympics[olym][2] = results_olympics[olym][2]+1\n",
    "\n",
    "medal_table = []\n",
    "for ol in results_olympics:\n",
    "    medal_table.append(results_olympics[ol])\n",
    "\n",
    "medal_array = np.array(medal_table)\n",
    "    \n",
    "# make a bar chart\n",
    "N = len(medal_array)\n",
    "ind = np.arange(N)  # the x locations for the groups\n",
    "width = 0.2       # the width of the bars\n",
    "\n",
    "# define plot and bar axes\n",
    "fig, ax = plt.subplots()\n",
    "rectsG = ax.bar(ind, medal_array[:,0], width, color='y')\n",
    "rectsS = ax.bar(ind+width, medal_array[:,1], width, color='k')\n",
    "rectsB = ax.bar(ind+2*width, medal_array[:,2], width, color='r')\n",
    "\n",
    "# plot tick setup\n",
    "ax.set_ylabel('Medal Count')\n",
    "ax.set_title('Medals Scraped from Olympics.org')\n",
    "ax.set_xticks(ind + 1.5*width)\n",
    "ax.set_xticklabels(results_olympics.keys())\n",
    "plt.xticks(rotation=90)\n",
    "plt.gcf().subplots_adjust(bottom=0.4)\n",
    "\n",
    "plt.show()"
   ]
  },
  {
   "cell_type": "code",
   "execution_count": 11,
   "metadata": {
    "collapsed": false
   },
   "outputs": [
    {
     "data": {
      "text/plain": [
       "50"
      ]
     },
     "execution_count": 11,
     "metadata": {},
     "output_type": "execute_result"
    }
   ],
   "source": [
    "len(medal_array[:,1])"
   ]
  },
  {
   "cell_type": "code",
   "execution_count": null,
   "metadata": {
    "collapsed": true
   },
   "outputs": [],
   "source": []
  }
 ],
 "metadata": {
  "kernelspec": {
   "display_name": "Python 2",
   "language": "python",
   "name": "python2"
  },
  "language_info": {
   "codemirror_mode": {
    "name": "ipython",
    "version": 2
   },
   "file_extension": ".py",
   "mimetype": "text/x-python",
   "name": "python",
   "nbconvert_exporter": "python",
   "pygments_lexer": "ipython2",
   "version": "2.7.6"
  }
 },
 "nbformat": 4,
 "nbformat_minor": 0
}
