{
 "cells": [
  {
   "cell_type": "code",
   "execution_count": null,
   "metadata": {
    "collapsed": true
   },
   "outputs": [],
   "source": [
    "# new approach, try to crawl through all athletes!\n",
    "\n",
    "# I have this nice big list of results pages now in the ResultsLinksTable\n",
    "# (Check for events with no entries there...)\n",
    "# maybe visit every one of those pages, then go to the athlete pages\n",
    "# and look at their related athletes!\n",
    "\n",
    "# next step: go to the page of every sport (already have that info)\n",
    "# get the \"featured athletes\", and start with those as seeds\n",
    "\n",
    "# when I start actually parsing results, I should have periodic dumps to file\n",
    "# so the list of results doesn't grow out of control\n",
    "# like, maybe every 100 results or something\n",
    "\n",
    "# one of the errors that came up was from spaces in the link. Need to use urllib2.quote()\n",
    "\n",
    "import logging\n",
    "reload(logging)\n",
    "logger = logging.getLogger(__name__)"
   ]
  },
  {
   "cell_type": "code",
   "execution_count": null,
   "metadata": {
    "collapsed": true
   },
   "outputs": [],
   "source": [
    "import urllib2\n",
    "import re\n",
    "import json\n",
    "from bs4 import BeautifulSoup\n",
    "import sys"
   ]
  },
  {
   "cell_type": "code",
   "execution_count": null,
   "metadata": {
    "collapsed": false
   },
   "outputs": [],
   "source": [
    "logging.basicConfig(filename='./AthleteCrawler.log',filemode='w',level=logging.DEBUG)"
   ]
  },
  {
   "cell_type": "code",
   "execution_count": null,
   "metadata": {
    "collapsed": false
   },
   "outputs": [],
   "source": [
    "# base url for olympics site\n",
    "baseUrl = \"https://www.olympic.org\"\n",
    "\n",
    "# seed with Michael Phelps\n",
    "athletesToVisit = []\n",
    "athletesToVisit.append(\"/michael-phelps\")\n",
    "log.info(\"Seeding crawler with \",athletesToVisit)\n",
    "\n",
    "# visited already\n",
    "athletes = set()\n",
    "\n",
    "while len(athletesToVisit) > 0:\n",
    "    athlete = athletesToVisit.pop()\n",
    "    try:\n",
    "        # get the html\n",
    "        html = urllib2.urlopen(baseUrl+\"/\"+athlete).read()\n",
    "\n",
    "        # soup it up\n",
    "        athleteSoup = BeautifulSoup(html)\n",
    "\n",
    "        # first get the nationality of this athlete\n",
    "        profileTag = athleteSoup.find(\"div\",class_=\"profile-row\")\n",
    "        nat = profileTag.find(\"span\").get_text()\n",
    "\n",
    "        # get the id card\n",
    "        idcard = athleteSoup.find(\"section\",class_=re.compile(\"id-card.*\")) \n",
    "        idcardLinks = idcard.find_all(\"a\")\n",
    "        sport = idcardLinks[0].string\n",
    "        county = idcardLinks[1].string \n",
    "        born = idcard.find_all(\"div\",class_=\"text-box\")[2].get_text().split(\"\\n\")[-1].strip()\n",
    "\n",
    "        athletes.add(athlete)\n",
    "        logging.info(\"Visited \" + athlete + \" - \" + nat + \" - \" + sport)\n",
    "\n",
    "\n",
    "        # find the related athlete section\n",
    "        relatedSection = athleteSoup.find(\"section\",class_=\"related-athletes\")\n",
    "\n",
    "        # get the links from that section, holding the events\n",
    "        nextLinks = relatedSection.find_all(\"a\",itemprop=\"url\")\n",
    "        for link in nextLinks:\n",
    "            nextAthlete = link['href']\n",
    "            if (not nextAthlete in athletes) and (not nextAthlete in athletesToVisit):\n",
    "                athletesToVisit.append(nextAthlete)\n",
    "    except Exception as err:\n",
    "        logging.warning(\"Problem with \" + athlete + \": \" + format(err))\n",
    "log.info(\"Athlete crawl complete\")"
   ]
  },
  {
   "cell_type": "code",
   "execution_count": null,
   "metadata": {
    "collapsed": true
   },
   "outputs": [],
   "source": []
  }
 ],
 "metadata": {
  "kernelspec": {
   "display_name": "Python 2",
   "language": "python",
   "name": "python2"
  },
  "language_info": {
   "codemirror_mode": {
    "name": "ipython",
    "version": 2
   },
   "file_extension": ".py",
   "mimetype": "text/x-python",
   "name": "python",
   "nbconvert_exporter": "python",
   "pygments_lexer": "ipython2",
   "version": "2.7.6"
  }
 },
 "nbformat": 4,
 "nbformat_minor": 0
}
