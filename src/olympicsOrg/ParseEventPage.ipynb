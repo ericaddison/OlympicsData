{
 "cells": [
  {
   "cell_type": "code",
   "execution_count": null,
   "metadata": {
    "collapsed": true
   },
   "outputs": [],
   "source": [
    "# next need to parse an event page for results\n",
    "\n",
    "# diving will be trickier. Olympic.org does calls lots of it's diving \"aquatics\", \n",
    "# but doesn't have any stat pages for that!!!! Might need to supplement from dataBaseOlympics"
   ]
  },
  {
   "cell_type": "code",
   "execution_count": 6,
   "metadata": {
    "collapsed": true
   },
   "outputs": [],
   "source": [
    "import urllib2\n",
    "import re\n",
    "import json\n",
    "from bs4 import BeautifulSoup\n",
    "import sys"
   ]
  },
  {
   "cell_type": "code",
   "execution_count": 7,
   "metadata": {
    "collapsed": true
   },
   "outputs": [],
   "source": [
    "# load all the sports\n",
    "with open('./SportsTable.json') as data_file:\n",
    "    sportsTable = json.load(data_file)"
   ]
  },
  {
   "cell_type": "code",
   "execution_count": 14,
   "metadata": {
    "collapsed": false
   },
   "outputs": [
    {
     "name": "stdout",
     "output_type": "stream",
     "text": [
      "parsing results for boxing.............\n",
      "parsing results for golf..\n",
      "parsing results for curling..\n",
      "parsing results for snowboard..........\n",
      "parsing results for badminton.....\n",
      "parsing results for volleyball..\n",
      "parsing results for handball..\n",
      "parsing results for diving........\n",
      "parsing results for shooting...............\n",
      "parsing results for skeleton..\n",
      "parsing results for gymnastics-artistic..............\n",
      "parsing results for taekwondo........\n",
      "parsing results for triathlon..\n",
      "parsing results for basketball..\n",
      "parsing results for equestrian-jumping..\n",
      "parsing results for table-tennis....\n",
      "parsing results for fencing..........\n",
      "parsing results for canoe-sprint............\n",
      "parsing results for short-track-speed-skating........\n",
      "parsing results for bobsleigh...\n",
      "parsing results for ice-hockey..\n",
      "parsing results for cycling-road....\n",
      "parsing results for modern-pentathlon..\n",
      "parsing results for hockey..\n",
      "parsing results for nordic-combined...!!! Problem with event nordic-combined/4x5-km-men\n",
      "\n",
      "parsing results for synchronized-swimming..\n",
      "parsing results for equestrian-dressage..\n",
      "parsing results for freestyle-skiing..........\n",
      "parsing results for trampoline..\n",
      "parsing results for cycling-bmx..\n",
      "parsing results for cross-country-skiing............\n",
      "parsing results for gymnastics-rhythmic..\n",
      "parsing results for tennis.....\n",
      "parsing results for alpine-skiing............\n",
      "parsing results for football..\n",
      "parsing results for ski-jumping....\n",
      "parsing results for wrestling-freestyle...........\n",
      "parsing results for equestrian-eventing..\n",
      "parsing results for weightlifting...............\n",
      "parsing results for rugby..\n",
      "parsing results for speed-skating............\n",
      "parsing results for beach-volleyball..\n",
      "parsing results for archery....\n",
      "parsing results for judo..............\n",
      "parsing results for canoe-slalom....\n",
      "parsing results for sailing..........\n",
      "parsing results for rowing..............\n",
      "parsing results for cycling-track..........\n",
      "parsing results for wrestling-greco-roman.......\n",
      "parsing results for figure-skating.....\n",
      "parsing results for biathlon...........\n",
      "parsing results for cycling-mountain-bike..\n",
      "parsing results for water-polo..\n",
      "parsing results for athletics...............................................\n",
      "parsing results for luge....\n",
      "parsing results for swimming..................................\n"
     ]
    }
   ],
   "source": [
    "# Need to parse all events from a sports page\n",
    "# base url for olympics site\n",
    "baseUrl = \"https://www.olympic.org\"\n",
    "\n",
    "# initialize resultsLinks dict\n",
    "resultsLinks = {}\n",
    "\n",
    "# loop through sports\n",
    "for sport in sportsTable:\n",
    "    sys.stdout.write(\"parsing results for \" + sport)\n",
    "    # loop through events\n",
    "    for event in sportsTable[sport][\"events\"]:\n",
    "        sys.stdout.write('.')\n",
    "        sys.stdout.flush()\n",
    "        # combined string\n",
    "        sportEvent = sport+\"/\"+event\n",
    "        try:\n",
    "            # get the html\n",
    "            html = urllib2.urlopen(baseUrl+\"/\"+sportEvent).read()\n",
    "\n",
    "            # soup it up\n",
    "            eventSoup = BeautifulSoup(html)\n",
    "\n",
    "            # function to find results links\n",
    "            def isFullResult(tag):\n",
    "                match = re.match(\"Full Results.*\",tag.get_text())\n",
    "                return match and tag.name == \"a\"\n",
    "\n",
    "            # find the right section\n",
    "            #resultsLinks = eventSoup.find_all(\"a\",href=re.compile(\"^/.*/\"+sportEvent))\n",
    "            resultsTags = eventSoup.find_all(isFullResult)\n",
    "\n",
    "            # initialize resultsLinks\n",
    "            resultsLinks[sportEvent] = [];\n",
    "\n",
    "            for tag in resultsTags:\n",
    "                resultsLinks[sportEvent].append(tag['href'])\n",
    "\n",
    "        except:\n",
    "            print \"!!! Problem with event \" + sportEvent\n",
    "    print\n",
    "\n",
    "with open('ResultsLinksTable.json', 'w') as outfile:\n",
    "    json.dump(resultsLinks, outfile, indent=4, sort_keys=True, separators=(',', ':'))\n",
    "    outfile.close()"
   ]
  },
  {
   "cell_type": "code",
   "execution_count": null,
   "metadata": {
    "collapsed": false,
    "scrolled": true
   },
   "outputs": [],
   "source": [
    "resultsLinks"
   ]
  },
  {
   "cell_type": "code",
   "execution_count": null,
   "metadata": {
    "collapsed": false
   },
   "outputs": [],
   "source": [
    "\n"
   ]
  },
  {
   "cell_type": "code",
   "execution_count": null,
   "metadata": {
    "collapsed": true
   },
   "outputs": [],
   "source": []
  }
 ],
 "metadata": {
  "kernelspec": {
   "display_name": "Python 2",
   "language": "python",
   "name": "python2"
  },
  "language_info": {
   "codemirror_mode": {
    "name": "ipython",
    "version": 2
   },
   "file_extension": ".py",
   "mimetype": "text/x-python",
   "name": "python",
   "nbconvert_exporter": "python",
   "pygments_lexer": "ipython2",
   "version": "2.7.6"
  }
 },
 "nbformat": 4,
 "nbformat_minor": 0
}
