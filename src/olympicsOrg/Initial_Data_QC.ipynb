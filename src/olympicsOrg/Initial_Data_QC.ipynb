{
 "cells": [
  {
   "cell_type": "code",
   "execution_count": null,
   "metadata": {
    "collapsed": false
   },
   "outputs": [],
   "source": [
    "# loading and cleaning up the data after the initial crawl"
   ]
  },
  {
   "cell_type": "code",
   "execution_count": 1,
   "metadata": {
    "collapsed": false
   },
   "outputs": [],
   "source": [
    "import json\n",
    "import numpy as np\n",
    "import matplotlib.pyplot as plt"
   ]
  },
  {
   "cell_type": "code",
   "execution_count": 2,
   "metadata": {
    "collapsed": false
   },
   "outputs": [
    {
     "name": "stdout",
     "output_type": "stream",
     "text": [
      "Loaded 42603 records into oo_athletes\n",
      "Loaded 17262 records into oo_resultsLoaded 42603 records into oo_athletes\n",
      "Loaded 17262 records into oo_results\n",
      "Loaded 52637 records into oo_rankings\n",
      "Loaded 52637 records into oo_rankings\n",
      "\n"
     ]
    }
   ],
   "source": [
    "# load the athlete data\n",
    "with open('../../data/olympicsOrg/AthletesTable.json') as data_file:    \n",
    "    oo_athletes = json.load(data_file)\n",
    "print \"Loaded \" + str(len(oo_athletes)) + \" records into oo_athletes\"\n",
    "\n",
    "# load the results data\n",
    "with open('../../data/olympicsOrg/ResultsTable.json') as data_file:    \n",
    "    oo_results = json.load(data_file)\n",
    "print \"Loaded \" + str(len(oo_results)) + \" records into oo_results\"\n",
    "\n",
    "# load the rankings data\n",
    "with open('../../data/olympicsOrg/RankingsTable.json') as data_file:    \n",
    "    oo_rankings  = json.load(data_file)\n",
    "print \"Loaded \" + str(len(oo_rankings)) + \" records into oo_rankings\""
   ]
  },
  {
   "cell_type": "code",
   "execution_count": 3,
   "metadata": {
    "collapsed": false,
    "scrolled": true
   },
   "outputs": [],
   "source": [
    "# G-S-B QC by olympics\n",
    "# compute number of results by olympics\n",
    "medal_count= {}\n",
    "\n",
    "for res in oo_results:\n",
    "    olym = res['olympics']\n",
    "    medal = res['medal']\n",
    "    if not olym in medal_count:\n",
    "        medal_count[olym] = [0, 0, 0, 0, 0]    \n",
    "    medal_count[olym][3] = medal_count[olym][3]+1\n",
    "    medal_count[olym][4] = int(str(olym[-4:]))\n",
    "    if medal == \"G\":\n",
    "        medal_count[olym][0] = medal_count[olym][0]+1\n",
    "    elif medal == \"S\":\n",
    "        medal_count[olym][1] = medal_count[olym][1]+1\n",
    "    elif medal == \"B\":\n",
    "        medal_count[olym][2] = medal_count[olym][2]+1\n",
    "\n",
    "medal_table = []\n",
    "for ol in medal_count:\n",
    "    medal_table.append(medal_count[ol])\n",
    "\n",
    "# make a numpy array of the medals and sort by year\n",
    "medal_array = np.array(medal_table)\n",
    "medal_array = medal_array[medal_array[:,4].argsort()]    \n",
    "    \n",
    "# make a bar chart\n",
    "N = len(medal_array)\n",
    "ind = np.arange(N)  # the x locations for the groups\n",
    "width = 0.25       # the width of the bars\n",
    "\n",
    "# define plot and bar axes\n",
    "fig, ax = plt.subplots()\n",
    "rectsG = ax.bar(ind, medal_array[:,0], width, color='y')\n",
    "rectsS = ax.bar(ind+width, medal_array[:,1], width, color='k')\n",
    "rectsB = ax.bar(ind+2*width, medal_array[:,2], width, color='r')\n",
    "\n",
    "# plot tick setup\n",
    "ax.set_ylabel('Medal Count')\n",
    "ax.set_title('Medals Scraped from Olympics.org')\n",
    "ax.set_xticks(ind + 1.5*width)\n",
    "ax.set_xticklabels(medal_array[:,4])\n",
    "plt.xticks(rotation=90)\n",
    "plt.gcf().subplots_adjust(bottom=0.1)\n",
    "\n",
    "plt.show()"
   ]
  },
  {
   "cell_type": "code",
   "execution_count": 4,
   "metadata": {
    "collapsed": false
   },
   "outputs": [],
   "source": [
    "# how many athletes from each olympics?\n",
    "athlete_cnt = {}\n",
    "for olym in medal_count:\n",
    "    cnt = 0\n",
    "    for ath in oo_athletes:\n",
    "        if olym in oo_athletes[ath]['olympics']:\n",
    "            cnt = cnt+1\n",
    "    athlete_cnt[olym] = cnt\n",
    "\n",
    "# how many events for each olympics?\n",
    "event_cnt = {}\n",
    "for olym in medal_count:\n",
    "    cnt = 0\n",
    "    \n",
    "    for result in oo_results:\n",
    "        if oo_results[result][olmympics] == olym:\n",
    "            \n"
   ]
  },
  {
   "cell_type": "code",
   "execution_count": 8,
   "metadata": {
    "collapsed": false
   },
   "outputs": [
    {
     "name": "stdout",
     "output_type": "stream",
     "text": [
      "# athletes found for london-2012 = 7348 (10568)\n",
      "# athletes found for london-2012 = 7348 (10568)\n"
     ]
    }
   ],
   "source": [
    "# check number of athletes found for london-2012, should be 10568\n",
    "olym = 'london-2012'\n",
    "print \"# athletes found for \" + olym + \" = \" + str(athlete_cnt[olym]) + \" (10568)\"\n",
    "\n"
   ]
  },
  {
   "cell_type": "code",
   "execution_count": null,
   "metadata": {
    "collapsed": true
   },
   "outputs": [],
   "source": []
  }
 ],
 "metadata": {
  "kernelspec": {
   "display_name": "Python 2",
   "language": "python",
   "name": "python2"
  },
  "language_info": {
   "codemirror_mode": {
    "name": "ipython",
    "version": 2
   },
   "file_extension": ".py",
   "mimetype": "text/x-python",
   "name": "python",
   "nbconvert_exporter": "python",
   "pygments_lexer": "ipython2",
   "version": "2.7.6"
  }
 },
 "nbformat": 4,
 "nbformat_minor": 0
}
